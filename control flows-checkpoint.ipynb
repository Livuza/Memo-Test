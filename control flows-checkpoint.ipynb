{
 "cells": [
  {
   "cell_type": "code",
   "execution_count": 1,
   "id": "cfdf52b9",
   "metadata": {},
   "outputs": [
    {
     "name": "stdout",
     "output_type": "stream",
     "text": [
      "Which number do you want to check? 67\n",
      "this is an odd number\n"
     ]
    }
   ],
   "source": [
    "number = input(\"Which number do you want to check? \")\n",
    "if int(number) % 2 > 0:\n",
    "    print(\"this is an odd number\")\n",
    "else:\n",
    "    print(\"this is an even number\")"
   ]
  },
  {
   "cell_type": "code",
   "execution_count": 3,
   "id": "e751061d",
   "metadata": {},
   "outputs": [
    {
     "name": "stdout",
     "output_type": "stream",
     "text": [
      "please enter your age56\n",
      "Your admission fee is $10\n"
     ]
    }
   ],
   "source": [
    "#Admission for anyone under age 4 is free.\n",
    "#Admission for anyone between the ages of 4 and 18 is 5 dollars.\n",
    "#Admission for anyone age 18 or older is 10 dollars.\n",
    "age=int(input(\"please enter your age\"))\n",
    "if age < 4:\n",
    "    fee = 0\n",
    "elif age < 18:\n",
    "    fee = 5\n",
    "elif age > 70:\n",
    "    fee = 5\n",
    "elif age > 18:\n",
    "    fee = 10\n",
    "\n",
    "    print(f\"Your admission fee is ${fee}\")"
   ]
  },
  {
   "cell_type": "code",
   "execution_count": 4,
   "id": "7b053019",
   "metadata": {},
   "outputs": [
    {
     "name": "stdout",
     "output_type": "stream",
     "text": [
      "enter your age16\n",
      "your admission fee is $5\n"
     ]
    }
   ],
   "source": [
    "age= int(input(\"enter your age\"))\n",
    "if age < 4:\n",
    "    fee = 0\n",
    "elif age < 18:\n",
    "    fee = 5\n",
    "else:\n",
    "    fee = 10\n",
    "\n",
    "print(f\"your admission fee is ${fee}\")"
   ]
  },
  {
   "cell_type": "code",
   "execution_count": 13,
   "id": "4d566072",
   "metadata": {},
   "outputs": [
    {
     "ename": "SyntaxError",
     "evalue": "invalid syntax (Temp/ipykernel_3496/4011625996.py, line 10)",
     "output_type": "error",
     "traceback": [
      "\u001b[1;36m  File \u001b[1;32m\"C:\\Users\\BRAYDEN\\AppData\\Local\\Temp/ipykernel_3496/4011625996.py\"\u001b[1;36m, line \u001b[1;32m10\u001b[0m\n\u001b[1;33m    bmi=round(raw_bmi)\u001b[0m\n\u001b[1;37m    ^\u001b[0m\n\u001b[1;31mSyntaxError\u001b[0m\u001b[1;31m:\u001b[0m invalid syntax\n"
     ]
    }
   ],
   "source": [
    "#Under 18.5 they are underweight.\n",
    "#Over 18.5 but below 25 they have normal weight.\n",
    "#Over 25 but below 30 they are slightly overweight.\n",
    "#Over 30 but below 35 they are obese.\n",
    "#Above 35 they are clinically obese.\n",
    "\n",
    "bmi_weight=int(input(\"enter your weight in kgs\"))\n",
    "bmi_height=float(input(\"enter your height in m\"))\n",
    "raw_bmi= float(bmi_weight)/float((bmi_height**2)\n",
    "bmi=round(raw_bmi)\n",
    "if bmi < 18.5:\n",
    "    bmi2='underweight'\n",
    "elif bmi < 25:\n",
    "    bmi2= 'normal weight'\n",
    "elif bmi < 30:\n",
    "    bmi2= 'slightly overweight'\n",
    "elif bmi < 35:\n",
    "    bmi2= 'obese'\n",
    "else:\n",
    "    bmi2= 'clinically obese'\n",
    "\n",
    "print(f\"Your bmi is {bmi},your are {bmi2}\")\n",
    "    "
   ]
  },
  {
   "cell_type": "code",
   "execution_count": 17,
   "id": "0985e47b",
   "metadata": {},
   "outputs": [
    {
     "name": "stdout",
     "output_type": "stream",
     "text": [
      "enter the year2044\n",
      "leap year\n"
     ]
    }
   ],
   "source": [
    "#build a leap year calculator\n",
    "#A leap year is diviscible by 4\n",
    "#EXCEPT every year that is diviscible by 100\n",
    "#UNLESS the year is evenly diviscible by 400\n",
    "\n",
    "year=int(input(\"enter the year\"))\n",
    "if year  % 4 != 0:\n",
    "    print(\"not a leap year\")\n",
    "else:\n",
    "    if year % 100 != 0:\n",
    "        print(\"leap year\")\n",
    "    else:\n",
    "        if year % 400 != 0:\n",
    "            print(\"not a leap year\")\n",
    "        else:\n",
    "            print(\"leap year\")\n",
    "    \n"
   ]
  },
  {
   "cell_type": "code",
   "execution_count": null,
   "id": "4f2835ef",
   "metadata": {},
   "outputs": [],
   "source": []
  }
 ],
 "metadata": {
  "kernelspec": {
   "display_name": "Python 3 (ipykernel)",
   "language": "python",
   "name": "python3"
  },
  "language_info": {
   "codemirror_mode": {
    "name": "ipython",
    "version": 3
   },
   "file_extension": ".py",
   "mimetype": "text/x-python",
   "name": "python",
   "nbconvert_exporter": "python",
   "pygments_lexer": "ipython3",
   "version": "3.9.7"
  }
 },
 "nbformat": 4,
 "nbformat_minor": 5
}
