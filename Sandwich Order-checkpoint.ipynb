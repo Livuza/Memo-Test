{
 "cells": [
  {
   "cell_type": "code",
   "execution_count": 9,
   "id": "3cf0de2d",
   "metadata": {},
   "outputs": [
    {
     "name": "stdout",
     "output_type": "stream",
     "text": [
      "finishing order:Onions\n",
      "finishing order:Tomatoes\n",
      "finishing order:Bacon\n",
      "finishing order:Beef\n",
      "finishing order:Chicken\n",
      "\n",
      "The following pizza has been finished:\n",
      "Onions\n",
      "Tomatoes\n",
      "Bacon\n",
      "Beef\n",
      "Chicken\n"
     ]
    }
   ],
   "source": [
    "sandwich_orders=['chicken', 'beef', 'bacon', 'tomatoes', 'onions']\n",
    "finished_orders=[]\n",
    "\n",
    "while sandwich_orders:\n",
    "    made_orders=sandwich_orders.pop()\n",
    "    print(\"finishing order:\" +made_orders.title())\n",
    "    finished_orders.append(made_orders)\n",
    "\n",
    "print(\"\\nThe following pizza has been finished:\")\n",
    "for finished_order in finished_orders:\n",
    "    print(finished_order.title())\n",
    "    \n"
   ]
  },
  {
   "cell_type": "code",
   "execution_count": null,
   "id": "ee20182d",
   "metadata": {},
   "outputs": [],
   "source": []
  }
 ],
 "metadata": {
  "kernelspec": {
   "display_name": "Python 3 (ipykernel)",
   "language": "python",
   "name": "python3"
  },
  "language_info": {
   "codemirror_mode": {
    "name": "ipython",
    "version": 3
   },
   "file_extension": ".py",
   "mimetype": "text/x-python",
   "name": "python",
   "nbconvert_exporter": "python",
   "pygments_lexer": "ipython3",
   "version": "3.9.7"
  }
 },
 "nbformat": 4,
 "nbformat_minor": 5
}
