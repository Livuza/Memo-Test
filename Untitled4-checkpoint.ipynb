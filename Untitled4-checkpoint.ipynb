{
 "cells": [
  {
   "cell_type": "code",
   "execution_count": 7,
   "id": "72044966",
   "metadata": {},
   "outputs": [
    {
     "name": "stdout",
     "output_type": "stream",
     "text": [
      "Hello,Mary.\n",
      "Hello,Myles.\n",
      "Hello,Martin.\n",
      "Hello,Martha.\n"
     ]
    }
   ],
   "source": [
    "users = ['Mary', 'Myles', 'Martin', 'Martha']\n",
    "def greeting(users):\n",
    "    for user in users:\n",
    "        print(f\"Hello,{user}.\")\n",
    "\n",
    "greeting(users)\n",
    "        "
   ]
  },
  {
   "cell_type": "code",
   "execution_count": null,
   "id": "12e86efa",
   "metadata": {},
   "outputs": [],
   "source": [
    "cohort = {\n",
    "    'course': 'Data Science', \n",
    "    'start':'Jan', \n",
    "    'end': 'Mar',\n",
    "    'students': [\n",
    "        {\n",
    "            'name': 'Njogu',\n",
    "            'age': 30, \n",
    "            'country': 'Kenya',\n",
    "            'assignment_scores': {'assignment_1': 50, 'assignment_2': 70, 'assignment_3': 65}\n",
    "        },\n",
    "        {\n",
    "            'name': 'Chinedu',\n",
    "            'age': 29,\n",
    "            'country': 'Nigeria',\n",
    "            'assignment_scores': {'assignment_1': 55, 'assignment_2': 60, 'assignment_3': 85}\n",
    "        }\n",
    "    ]\n",
    "}\n"
   ]
  }
 ],
 "metadata": {
  "kernelspec": {
   "display_name": "Python 3 (ipykernel)",
   "language": "python",
   "name": "python3"
  },
  "language_info": {
   "codemirror_mode": {
    "name": "ipython",
    "version": 3
   },
   "file_extension": ".py",
   "mimetype": "text/x-python",
   "name": "python",
   "nbconvert_exporter": "python",
   "pygments_lexer": "ipython3",
   "version": "3.9.7"
  }
 },
 "nbformat": 4,
 "nbformat_minor": 5
}
