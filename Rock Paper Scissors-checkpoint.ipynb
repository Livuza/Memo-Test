{
 "cells": [
  {
   "cell_type": "code",
   "execution_count": 3,
   "id": "ab30466a",
   "metadata": {},
   "outputs": [
    {
     "name": "stdout",
     "output_type": "stream",
     "text": [
      "Enter a choice(scissors,paper,rock): paper\n",
      "f'\n",
      "You chose{user_action}, computer chose{computer_action}.\n",
      "\n",
      "Paper smashes rock. You win!\n"
     ]
    }
   ],
   "source": [
    "import random\n",
    "user_action=input(\"Enter a choice(scissors,paper,rock): \")\n",
    "possible_actions = [\"scissors\",\"paper\",\"rock\"]\n",
    "computer_action = random.choice(possible_actions)\n",
    "print(\"f'\\nYou chose{user_action}, computer chose{computer_action}.\\n\")\n",
    "if user_action==computer_action:\n",
    "    print(f\"both playersselected{user_action}. Its a tie! \")\n",
    "elif user_action == \"scissors\":\n",
    "    if computer_action == \"rock\":\n",
    "        print(\"Rock smashes scissors. You lose!\")\n",
    "    else:\n",
    "        print (\"scissors cuts paper. You win!\")\n",
    "elif user_action ==\" rock\":\n",
    "    if computer_action == \"paper\":\n",
    "        print(\" paper smashes rock. You lose!\")\n",
    "    else:\n",
    "        print(\"Rock smashes scissors. You win!\")\n",
    "elif user_action== \"paper\":\n",
    "    if computer_action == \"scissors\":\n",
    "        print(\"scissors cuts paper. You lose!\")\n",
    "    else:\n",
    "        print(\"Paper smashes rock. You win!\")\n",
    "    "
   ]
  },
  {
   "cell_type": "code",
   "execution_count": null,
   "id": "05f668b2",
   "metadata": {},
   "outputs": [],
   "source": []
  }
 ],
 "metadata": {
  "kernelspec": {
   "display_name": "Python 3 (ipykernel)",
   "language": "python",
   "name": "python3"
  },
  "language_info": {
   "codemirror_mode": {
    "name": "ipython",
    "version": 3
   },
   "file_extension": ".py",
   "mimetype": "text/x-python",
   "name": "python",
   "nbconvert_exporter": "python",
   "pygments_lexer": "ipython3",
   "version": "3.9.7"
  }
 },
 "nbformat": 4,
 "nbformat_minor": 5
}
