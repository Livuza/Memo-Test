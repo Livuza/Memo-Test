{
 "cells": [
  {
   "cell_type": "code",
   "execution_count": 1,
   "id": "29b33f54",
   "metadata": {},
   "outputs": [
    {
     "ename": "SyntaxError",
     "evalue": "invalid syntax (Temp/ipykernel_7320/2964918149.py, line 1)",
     "output_type": "error",
     "traceback": [
      "\u001b[1;36m  File \u001b[1;32m\"C:\\Users\\BRAYDEN\\AppData\\Local\\Temp/ipykernel_7320/2964918149.py\"\u001b[1;36m, line \u001b[1;32m1\u001b[0m\n\u001b[1;33m    echo \"# PaulineMemo\" >> README.md\u001b[0m\n\u001b[1;37m         ^\u001b[0m\n\u001b[1;31mSyntaxError\u001b[0m\u001b[1;31m:\u001b[0m invalid syntax\n"
     ]
    }
   ],
   "source": [
    "echo \"# PaulineMemo\" >> README.md\n",
    "git init\n",
    "git add README.md\n",
    "git commit -m \"first commit\"\n",
    "git branch -M main\n",
    "git remote add origin https://github.com/PaulineMemo/PaulineMemo.git\n",
    "git push -u origin main"
   ]
  },
  {
   "cell_type": "code",
   "execution_count": 4,
   "id": "1208dcdb",
   "metadata": {},
   "outputs": [
    {
     "ename": "SyntaxError",
     "evalue": "invalid syntax (Temp/ipykernel_7320/2022736769.py, line 1)",
     "output_type": "error",
     "traceback": [
      "\u001b[1;36m  File \u001b[1;32m\"C:\\Users\\BRAYDEN\\AppData\\Local\\Temp/ipykernel_7320/2022736769.py\"\u001b[1;36m, line \u001b[1;32m1\u001b[0m\n\u001b[1;33m    git remote add origin https://github.com/PaulineMemo/PaulineMemo.git\u001b[0m\n\u001b[1;37m        ^\u001b[0m\n\u001b[1;31mSyntaxError\u001b[0m\u001b[1;31m:\u001b[0m invalid syntax\n"
     ]
    }
   ],
   "source": [
    "git remote add origin https://github.com/PaulineMemo/PaulineMemo.git\n",
    "git branch -M main\n",
    "git push -u origin main"
   ]
  },
  {
   "cell_type": "code",
   "execution_count": 11,
   "id": "d89f1fac",
   "metadata": {},
   "outputs": [
    {
     "name": "stdout",
     "output_type": "stream",
     "text": [
      "Elon\n",
      "Steve\n",
      "Larry\n",
      "Sergey\n",
      "Bill\n"
     ]
    }
   ],
   "source": [
    "names = ['Elon Musk', 'Steve Jobs', 'Larry Page', 'Sergey Brin', 'Bill Gates']\n",
    "\n",
    "for n in names:\n",
    "\n",
    "    print(n.split() [0])\n",
    "    \n",
    "    "
   ]
  },
  {
   "cell_type": "code",
   "execution_count": 13,
   "id": "dcb65fb8",
   "metadata": {},
   "outputs": [
    {
     "data": {
      "text/plain": [
       "['paul', 'ne']"
      ]
     },
     "execution_count": 13,
     "metadata": {},
     "output_type": "execute_result"
    }
   ],
   "source": [
    "name = 'pauline'\n",
    "name.split(\"i\")"
   ]
  },
  {
   "cell_type": "code",
   "execution_count": 16,
   "id": "07404156",
   "metadata": {},
   "outputs": [
    {
     "ename": "SyntaxError",
     "evalue": "invalid syntax (Temp/ipykernel_7320/2153732200.py, line 2)",
     "output_type": "error",
     "traceback": [
      "\u001b[1;36m  File \u001b[1;32m\"C:\\Users\\BRAYDEN\\AppData\\Local\\Temp/ipykernel_7320/2153732200.py\"\u001b[1;36m, line \u001b[1;32m2\u001b[0m\n\u001b[1;33m    for num%3 ==0\u001b[0m\n\u001b[1;37m                 ^\u001b[0m\n\u001b[1;31mSyntaxError\u001b[0m\u001b[1;31m:\u001b[0m invalid syntax\n"
     ]
    }
   ],
   "source": [
    "num=input(\"enter your number\")\n",
    "for num%3 ==0:\n",
    "    print(\"{} is divisible by 3\" .format(num))\n",
    "else:\n",
    "    print(\"{} is not divisible by 3\" .format(num))\n"
   ]
  },
  {
   "cell_type": "code",
   "execution_count": null,
   "id": "db0b02fa",
   "metadata": {},
   "outputs": [],
   "source": [
    "num=input(\"enter a number\")\n",
    "if (num % 3 == 0):\n",
    "    print(\"{} is divisible by 3\" .format(num))\n",
    "else:\n",
    "    print(\"{} is not divisble by 3\" .format(num))\n",
    "    "
   ]
  },
  {
   "cell_type": "code",
   "execution_count": null,
   "id": "40e04327",
   "metadata": {},
   "outputs": [],
   "source": [
    "start=input('enter start number:')\n",
    "end=input('enter last number:')\n",
    "for i in range(start, end+1):\n",
    "    if(i% 3== 0):\n",
    "        print(i)\n",
    "        \n",
    "\n",
    "    "
   ]
  },
  {
   "cell_type": "code",
   "execution_count": null,
   "id": "f6916231",
   "metadata": {},
   "outputs": [],
   "source": [
    "languages=['Python', 'R','Java', 'Javascript']\n",
    "for index in range(len(languages)):\n",
    "    print('current language:', languages[index])\n",
    "    "
   ]
  },
  {
   "cell_type": "code",
   "execution_count": null,
   "id": "a7c6a991",
   "metadata": {},
   "outputs": [],
   "source": []
  },
  {
   "cell_type": "code",
   "execution_count": null,
   "id": "e8cf5718",
   "metadata": {},
   "outputs": [],
   "source": []
  },
  {
   "cell_type": "code",
   "execution_count": null,
   "id": "983d340c",
   "metadata": {},
   "outputs": [],
   "source": []
  }
 ],
 "metadata": {
  "kernelspec": {
   "display_name": "Python 3 (ipykernel)",
   "language": "python",
   "name": "python3"
  },
  "language_info": {
   "codemirror_mode": {
    "name": "ipython",
    "version": 3
   },
   "file_extension": ".py",
   "mimetype": "text/x-python",
   "name": "python",
   "nbconvert_exporter": "python",
   "pygments_lexer": "ipython3",
   "version": "3.9.7"
  }
 },
 "nbformat": 4,
 "nbformat_minor": 5
}
