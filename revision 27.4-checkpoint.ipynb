{
 "cells": [
  {
   "cell_type": "code",
   "execution_count": 7,
   "id": "a11a6af1",
   "metadata": {},
   "outputs": [
    {
     "name": "stdout",
     "output_type": "stream",
     "text": [
      "enter your weight in kg70\n",
      "enter you height in m1.65\n",
      "26\n"
     ]
    }
   ],
   "source": [
    "weight= int(input(\"enter your weight in kg\"))\n",
    "height=input(\"enter you height in m\")\n",
    "bmi_weight=float(weight)\n",
    "bmi_height=float(height)\n",
    "raw_bmi=bmi_weight/((bmi_height) **2)\n",
    "bmi= round(raw_bmi)\n",
    "print(round(bmi))"
   ]
  },
  {
   "cell_type": "code",
   "execution_count": 13,
   "id": "24e36e6c",
   "metadata": {},
   "outputs": [
    {
     "name": "stdout",
     "output_type": "stream",
     "text": [
      "enter the distance covered45\n",
      "price per km16\n",
      "time taken41\n",
      "price per minute4\n",
      "base fare123\n",
      "1007\n"
     ]
    }
   ],
   "source": [
    "#cab fare calculator\n",
    "a=input('enter the distance covered')\n",
    "b=input('price per km')\n",
    "c=input('time taken')\n",
    "d=input('price per minute')\n",
    "e=input('base fare')\n",
    "cab_fare= int(e)+ int(a)*int(b) + int(c)*int(d)\n",
    "print(int(cab_fare))"
   ]
  },
  {
   "cell_type": "code",
   "execution_count": null,
   "id": "5da7d640",
   "metadata": {},
   "outputs": [],
   "source": []
  }
 ],
 "metadata": {
  "kernelspec": {
   "display_name": "Python 3 (ipykernel)",
   "language": "python",
   "name": "python3"
  },
  "language_info": {
   "codemirror_mode": {
    "name": "ipython",
    "version": 3
   },
   "file_extension": ".py",
   "mimetype": "text/x-python",
   "name": "python",
   "nbconvert_exporter": "python",
   "pygments_lexer": "ipython3",
   "version": "3.9.7"
  }
 },
 "nbformat": 4,
 "nbformat_minor": 5
}
