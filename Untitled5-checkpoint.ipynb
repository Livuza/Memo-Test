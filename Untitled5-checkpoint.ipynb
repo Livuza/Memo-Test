{
 "cells": [
  {
   "cell_type": "code",
   "execution_count": 1,
   "id": "e7e1bfbf",
   "metadata": {},
   "outputs": [
    {
     "data": {
      "text/plain": [
       "{'name': 'James Bond', 'age': 70, 'city': 'Nairobi'}"
      ]
     },
     "execution_count": 1,
     "metadata": {},
     "output_type": "execute_result"
    }
   ],
   "source": [
    "person={'name': 'James Bond','age':70,'city':'Nairobi'}\n",
    "person"
   ]
  },
  {
   "cell_type": "code",
   "execution_count": 2,
   "id": "347832a6",
   "metadata": {},
   "outputs": [
    {
     "name": "stdout",
     "output_type": "stream",
     "text": [
      "{'name': 'James Bond', 'age': 70, 'city': 'Nairobi'}\n"
     ]
    }
   ],
   "source": [
    "print(person)"
   ]
  },
  {
   "cell_type": "code",
   "execution_count": 18,
   "id": "b3d3a7d9",
   "metadata": {},
   "outputs": [
    {
     "ename": "TypeError",
     "evalue": "string indices must be integers",
     "output_type": "error",
     "traceback": [
      "\u001b[1;31m---------------------------------------------------------------------------\u001b[0m",
      "\u001b[1;31mTypeError\u001b[0m                                 Traceback (most recent call last)",
      "\u001b[1;32m~\\AppData\\Local\\Temp/ipykernel_12652/2694331891.py\u001b[0m in \u001b[0;36m<module>\u001b[1;34m\u001b[0m\n\u001b[1;32m----> 1\u001b[1;33m \u001b[0mname\u001b[0m \u001b[1;33m=\u001b[0m \u001b[0mperson\u001b[0m\u001b[1;33m[\u001b[0m\u001b[1;34m'city'\u001b[0m\u001b[1;33m]\u001b[0m\u001b[1;33m\u001b[0m\u001b[1;33m\u001b[0m\u001b[0m\n\u001b[0m\u001b[0;32m      2\u001b[0m \u001b[0mname\u001b[0m\u001b[1;33m\u001b[0m\u001b[1;33m\u001b[0m\u001b[0m\n",
      "\u001b[1;31mTypeError\u001b[0m: string indices must be integers"
     ]
    }
   ],
   "source": [
    "name = person['city']\n",
    "name"
   ]
  },
  {
   "cell_type": "code",
   "execution_count": 28,
   "id": "27b08620",
   "metadata": {},
   "outputs": [
    {
     "data": {
      "text/plain": [
       "77"
      ]
     },
     "execution_count": 28,
     "metadata": {},
     "output_type": "execute_result"
    }
   ],
   "source": [
    "name = person['age']\n",
    "name"
   ]
  },
  {
   "cell_type": "code",
   "execution_count": 29,
   "id": "4f1d97ae",
   "metadata": {},
   "outputs": [
    {
     "data": {
      "text/plain": [
       "'James bond'"
      ]
     },
     "execution_count": 29,
     "metadata": {},
     "output_type": "execute_result"
    }
   ],
   "source": [
    "x=person['name']\n",
    "x\n"
   ]
  },
  {
   "cell_type": "code",
   "execution_count": 22,
   "id": "cfdf975d",
   "metadata": {},
   "outputs": [
    {
     "name": "stdout",
     "output_type": "stream",
     "text": [
      "7\n"
     ]
    }
   ],
   "source": [
    "a=5+2\n",
    "print(a)"
   ]
  },
  {
   "cell_type": "code",
   "execution_count": 23,
   "id": "e19fc549",
   "metadata": {},
   "outputs": [
    {
     "data": {
      "text/plain": [
       "{'name': 'James bond'}"
      ]
     },
     "execution_count": 23,
     "metadata": {},
     "output_type": "execute_result"
    }
   ],
   "source": [
    "person={'name':'James bond'}\n",
    "person"
   ]
  },
  {
   "cell_type": "code",
   "execution_count": 24,
   "id": "bdf14ce0",
   "metadata": {},
   "outputs": [
    {
     "data": {
      "text/plain": [
       "{'name': 'James bond', 'age': 77}"
      ]
     },
     "execution_count": 24,
     "metadata": {},
     "output_type": "execute_result"
    }
   ],
   "source": [
    "person['age']=77\n",
    "person"
   ]
  },
  {
   "cell_type": "code",
   "execution_count": 25,
   "id": "7e266e6d",
   "metadata": {},
   "outputs": [
    {
     "data": {
      "text/plain": [
       "{'name': 'James bond', 'age': 77, 'country': 'kenya'}"
      ]
     },
     "execution_count": 25,
     "metadata": {},
     "output_type": "execute_result"
    }
   ],
   "source": [
    "person['country']='kenya'\n",
    "person"
   ]
  },
  {
   "cell_type": "code",
   "execution_count": 26,
   "id": "864ff95b",
   "metadata": {},
   "outputs": [
    {
     "data": {
      "text/plain": [
       "77"
      ]
     },
     "execution_count": 26,
     "metadata": {},
     "output_type": "execute_result"
    }
   ],
   "source": [
    "name=person['age']\n",
    "name"
   ]
  },
  {
   "cell_type": "code",
   "execution_count": 30,
   "id": "c73c54b3",
   "metadata": {},
   "outputs": [
    {
     "data": {
      "text/plain": [
       "{'name': 'James bond', 'age': 55, 'country': 'kenya'}"
      ]
     },
     "execution_count": 30,
     "metadata": {},
     "output_type": "execute_result"
    }
   ],
   "source": [
    "person['age']=55\n",
    "person"
   ]
  },
  {
   "cell_type": "code",
   "execution_count": 31,
   "id": "cee8fc31",
   "metadata": {},
   "outputs": [
    {
     "data": {
      "text/plain": [
       "55"
      ]
     },
     "execution_count": 31,
     "metadata": {},
     "output_type": "execute_result"
    }
   ],
   "source": [
    "a=person['age']\n",
    "a"
   ]
  },
  {
   "cell_type": "code",
   "execution_count": 32,
   "id": "39f0a06a",
   "metadata": {},
   "outputs": [
    {
     "data": {
      "text/plain": [
       "{'name': 'James bond', 'country': 'kenya'}"
      ]
     },
     "execution_count": 32,
     "metadata": {},
     "output_type": "execute_result"
    }
   ],
   "source": [
    "del person['age']\n",
    "person"
   ]
  },
  {
   "cell_type": "code",
   "execution_count": 38,
   "id": "f12805ab",
   "metadata": {},
   "outputs": [
    {
     "data": {
      "text/plain": [
       "'kenya'"
      ]
     },
     "execution_count": 38,
     "metadata": {},
     "output_type": "execute_result"
    }
   ],
   "source": [
    "x = person.pop('country')\n",
    "x"
   ]
  },
  {
   "cell_type": "code",
   "execution_count": 39,
   "id": "08c4c561",
   "metadata": {},
   "outputs": [
    {
     "data": {
      "text/plain": [
       "{'name': 'James bond'}"
      ]
     },
     "execution_count": 39,
     "metadata": {},
     "output_type": "execute_result"
    }
   ],
   "source": [
    "person"
   ]
  },
  {
   "cell_type": "code",
   "execution_count": 41,
   "id": "be917f88",
   "metadata": {},
   "outputs": [
    {
     "data": {
      "text/plain": [
       "('country', 'kenya')"
      ]
     },
     "execution_count": 41,
     "metadata": {},
     "output_type": "execute_result"
    }
   ],
   "source": [
    "person={'name': 'James bond', 'age': 77, 'country': 'kenya'}\n",
    "name=person.popitem()\n",
    "name"
   ]
  },
  {
   "cell_type": "code",
   "execution_count": 42,
   "id": "9643c1bd",
   "metadata": {},
   "outputs": [
    {
     "data": {
      "text/plain": [
       "{'name': 'James bond', 'age': 77}"
      ]
     },
     "execution_count": 42,
     "metadata": {},
     "output_type": "execute_result"
    }
   ],
   "source": [
    "person"
   ]
  },
  {
   "cell_type": "code",
   "execution_count": 43,
   "id": "23450e04",
   "metadata": {},
   "outputs": [
    {
     "data": {
      "text/plain": [
       "('age', 77)"
      ]
     },
     "execution_count": 43,
     "metadata": {},
     "output_type": "execute_result"
    }
   ],
   "source": [
    "name=person.popitem()\n",
    "name"
   ]
  },
  {
   "cell_type": "code",
   "execution_count": 45,
   "id": "03e04c89",
   "metadata": {},
   "outputs": [
    {
     "data": {
      "text/plain": [
       "('country', 'kenya')"
      ]
     },
     "execution_count": 45,
     "metadata": {},
     "output_type": "execute_result"
    }
   ],
   "source": [
    "person={'name': 'James bond', 'age': 77, 'country': 'kenya'}\n",
    "age = person.popitem()\n",
    "age"
   ]
  },
  {
   "cell_type": "code",
   "execution_count": 48,
   "id": "a2ebc6bf",
   "metadata": {},
   "outputs": [
    {
     "name": "stdout",
     "output_type": "stream",
     "text": [
      "name James bond\n",
      "age 77\n",
      "country kenya\n"
     ]
    }
   ],
   "source": [
    "person={'name': 'James bond', 'age': 77, 'country': 'kenya'}\n",
    "for key,value in person.items():\n",
    "    print(key,value)"
   ]
  },
  {
   "cell_type": "code",
   "execution_count": 52,
   "id": "e8dc303d",
   "metadata": {},
   "outputs": [
    {
     "name": "stdout",
     "output_type": "stream",
     "text": [
      "('name', 'James bond')\n",
      "('age', 77)\n",
      "('country', 'kenya')\n"
     ]
    }
   ],
   "source": [
    "for keys in person.items():\n",
    "    print(keys)"
   ]
  },
  {
   "cell_type": "code",
   "execution_count": 53,
   "id": "d45e2a01",
   "metadata": {},
   "outputs": [
    {
     "name": "stdout",
     "output_type": "stream",
     "text": [
      "('name', 'James bond')\n",
      "('age', 77)\n",
      "('country', 'kenya')\n"
     ]
    }
   ],
   "source": [
    "for values in person.items():\n",
    "    print(values)"
   ]
  },
  {
   "cell_type": "code",
   "execution_count": 54,
   "id": "60745dab",
   "metadata": {},
   "outputs": [
    {
     "name": "stdout",
     "output_type": "stream",
     "text": [
      "name James bond\n",
      "age 77\n",
      "country kenya\n"
     ]
    }
   ],
   "source": [
    "for m,h in person.items():\n",
    "    print(m,h)"
   ]
  },
  {
   "cell_type": "code",
   "execution_count": 55,
   "id": "c678fc22",
   "metadata": {},
   "outputs": [
    {
     "data": {
      "text/plain": [
       "{'name': 'cat', 'colour': 'black', 'pet_name': 'ginger', 'origin': 'asia'}"
      ]
     },
     "execution_count": 55,
     "metadata": {},
     "output_type": "execute_result"
    }
   ],
   "source": [
    "pets={'name':'cat',\n",
    "     'colour':'black',\n",
    "     'pet_name':'ginger',\n",
    "     'origin':'asia'\n",
    "}\n",
    "pets"
   ]
  },
  {
   "cell_type": "code",
   "execution_count": 56,
   "id": "4ed9dfa9",
   "metadata": {},
   "outputs": [
    {
     "name": "stdout",
     "output_type": "stream",
     "text": [
      "name cat\n",
      "colour black\n",
      "pet_name ginger\n",
      "origin asia\n"
     ]
    }
   ],
   "source": [
    "for name,here in pets.items():\n",
    "    print(name,here)"
   ]
  },
  {
   "cell_type": "code",
   "execution_count": 67,
   "id": "6d0d175a",
   "metadata": {},
   "outputs": [
    {
     "name": "stdout",
     "output_type": "stream",
     "text": [
      "Name: CAT\n",
      "Colour: BLACK\n",
      "Pet_Name: GINGER\n",
      "Origin: ASIA\n"
     ]
    }
   ],
   "source": [
    "for name,here in pets.items():\n",
    "    print(f'{name.title()}: {here.upper()}')"
   ]
  },
  {
   "cell_type": "code",
   "execution_count": 81,
   "id": "d003ac82",
   "metadata": {},
   "outputs": [
    {
     "name": "stdout",
     "output_type": "stream",
     "text": [
      "\u001b[0m \u001b[1m Name \u001b[1;34m CAT\n",
      "\u001b[0m \u001b[1m Colour \u001b[1;34m BLACK\n",
      "\u001b[0m \u001b[1m Pet_Name \u001b[1;34m GINGER\n",
      "\u001b[0m \u001b[1m Origin \u001b[1;34m ASIA\n"
     ]
    }
   ],
   "source": [
    "red = \"\\033[1;31m\"\n",
    "blue = \"\\033[1;34m\"\n",
    "green = \"\\033[1;32m\"\n",
    "no_color = \"\\033[0m\"\n",
    "purple = \"\\033[1;35m\"\n",
    "BOLD = '\\033[1m'\n",
    "for name,here in pets.items():\n",
    "    print(no_color,BOLD,name.title(),blue,here.upper())"
   ]
  },
  {
   "cell_type": "code",
   "execution_count": 82,
   "id": "c06db596",
   "metadata": {},
   "outputs": [
    {
     "name": "stdout",
     "output_type": "stream",
     "text": [
      "course Data Science\n",
      "start Jan\n",
      "end Mar\n",
      "students [{'name': 'Njogu', 'age': 30, 'country': 'Kenya', 'assignment_scores': {'assignment_1': 50, 'assignment_2': 70, 'assignment_3': 65}}, {'name': 'Chinedu', 'age': 29, 'country': 'Nigeria', 'assignment_scores': {'assignment_1': 55, 'assignment_2': 60, 'assignment_3': 85}}]\n"
     ]
    }
   ],
   "source": [
    "cohort = {\n",
    "    'course': 'Data Science', \n",
    "    'start':'Jan', \n",
    "    'end': 'Mar',\n",
    "    'students': [\n",
    "        {\n",
    "            'name': 'Njogu',\n",
    "            'age': 30, \n",
    "            'country': 'Kenya',\n",
    "            'assignment_scores': {'assignment_1': 50, 'assignment_2': 70, 'assignment_3': 65}\n",
    "        },\n",
    "        {\n",
    "            'name': 'Chinedu',\n",
    "            'age': 29,\n",
    "            'country': 'Nigeria',\n",
    "            'assignment_scores': {'assignment_1': 55, 'assignment_2': 60, 'assignment_3': 85}\n",
    "        }\n",
    "    ]\n",
    "}\n",
    "for key,value in cohort.items():\n",
    "    print(key,value)\n",
    "    "
   ]
  },
  {
   "cell_type": "code",
   "execution_count": 88,
   "id": "93aea37e",
   "metadata": {},
   "outputs": [
    {
     "name": "stdout",
     "output_type": "stream",
     "text": [
      "[{'name': 'Njogu', 'age': 30, 'country': 'Kenya', 'assignment_scores': {'assignment_1': 50, 'assignment_2': 70, 'assignment_3': 65}}, {'name': 'Chinedu', 'age': 29, 'country': 'Nigeria', 'assignment_scores': {'assignment_1': 55, 'assignment_2': 60, 'assignment_3': 85}}]\n"
     ]
    }
   ],
   "source": [
    "\n",
    "print(cohort['students'])"
   ]
  },
  {
   "cell_type": "code",
   "execution_count": 91,
   "id": "4bcadd2b",
   "metadata": {},
   "outputs": [
    {
     "ename": "KeyError",
     "evalue": "'student'",
     "output_type": "error",
     "traceback": [
      "\u001b[1;31m---------------------------------------------------------------------------\u001b[0m",
      "\u001b[1;31mKeyError\u001b[0m                                  Traceback (most recent call last)",
      "\u001b[1;32m~\\AppData\\Local\\Temp/ipykernel_12652/1375330998.py\u001b[0m in \u001b[0;36m<module>\u001b[1;34m\u001b[0m\n\u001b[1;32m----> 1\u001b[1;33m \u001b[0mprint\u001b[0m\u001b[1;33m(\u001b[0m\u001b[0mcohort\u001b[0m\u001b[1;33m[\u001b[0m\u001b[1;34m'student'\u001b[0m\u001b[1;33m]\u001b[0m\u001b[1;33m[\u001b[0m\u001b[1;36m0\u001b[0m\u001b[1;33m]\u001b[0m\u001b[1;33m[\u001b[0m\u001b[1;34m'assignment_scores'\u001b[0m\u001b[1;33m]\u001b[0m\u001b[1;33m[\u001b[0m\u001b[1;34m'assignment_3'\u001b[0m\u001b[1;33m]\u001b[0m\u001b[1;33m)\u001b[0m\u001b[1;33m\u001b[0m\u001b[1;33m\u001b[0m\u001b[0m\n\u001b[0m",
      "\u001b[1;31mKeyError\u001b[0m: 'student'"
     ]
    }
   ],
   "source": [
    "print(cohort['student'][0]['assignment_scores']['assignment_3'])"
   ]
  },
  {
   "cell_type": "code",
   "execution_count": 99,
   "id": "784759c7",
   "metadata": {},
   "outputs": [
    {
     "name": "stdout",
     "output_type": "stream",
     "text": [
      "65\n"
     ]
    }
   ],
   "source": [
    "cohort = {\n",
    "    'course': 'Data Science', \n",
    "    'start':'Jan', \n",
    "    'end': 'Mar',\n",
    "    'students': [\n",
    "        {\n",
    "            'name': 'Njogu',\n",
    "            'age': 30, \n",
    "            'country': 'Kenya',\n",
    "            'assignment_scores': {'assignment_1': 50, 'assignment_2': 70, 'assignment_3': 65}\n",
    "        },\n",
    "        {\n",
    "            'name': 'Chinedu',\n",
    "            'age': 29,\n",
    "            'country': 'Nigeria',\n",
    "            'assignment_scores': {'assignment_1': 55, 'assignment_2': 60, 'assignment_3': 85}\n",
    "        }\n",
    "    ]\n",
    "}\n",
    "print(cohort['students'][0]['assignment_scores']['assignment_3'])"
   ]
  },
  {
   "cell_type": "code",
   "execution_count": null,
   "id": "e3800b98",
   "metadata": {},
   "outputs": [],
   "source": []
  }
 ],
 "metadata": {
  "kernelspec": {
   "display_name": "Python 3 (ipykernel)",
   "language": "python",
   "name": "python3"
  },
  "language_info": {
   "codemirror_mode": {
    "name": "ipython",
    "version": 3
   },
   "file_extension": ".py",
   "mimetype": "text/x-python",
   "name": "python",
   "nbconvert_exporter": "python",
   "pygments_lexer": "ipython3",
   "version": "3.9.7"
  }
 },
 "nbformat": 4,
 "nbformat_minor": 5
}
