{
 "cells": [
  {
   "cell_type": "code",
   "execution_count": 3,
   "id": "8831c04f",
   "metadata": {},
   "outputs": [
    {
     "name": "stdout",
     "output_type": "stream",
     "text": [
      "9\n",
      "10\n",
      "11\n",
      "12\n"
     ]
    }
   ],
   "source": [
    "#for loop\n",
    "num=[6,7,8,9]\n",
    "for x in num:\n",
    "    x += 3\n",
    "    print(x)\n"
   ]
  },
  {
   "cell_type": "code",
   "execution_count": 12,
   "id": "7d9ac731",
   "metadata": {},
   "outputs": [
    {
     "name": "stdout",
     "output_type": "stream",
     "text": [
      "30\n"
     ]
    }
   ],
   "source": [
    "numbers =[6,7,8,9]\n",
    "total=0\n",
    "for num in numbers:\n",
    "    total += num\n",
    "print(total)"
   ]
  },
  {
   "cell_type": "code",
   "execution_count": 15,
   "id": "7e3c269b",
   "metadata": {},
   "outputs": [
    {
     "name": "stdout",
     "output_type": "stream",
     "text": [
      "Paul\n",
      "nixon\n",
      "alex\n",
      "Hext\n"
     ]
    }
   ],
   "source": [
    "#Obtain the first name from a list of name\n",
    "names =['Paul Chei','nixon duo','alex Chui','Hext gan']\n",
    "for n in names:\n",
    "    fname = n.split()[0]\n",
    "    print(fname)\n"
   ]
  },
  {
   "cell_type": "code",
   "execution_count": 38,
   "id": "87f64385",
   "metadata": {},
   "outputs": [
    {
     "name": "stdout",
     "output_type": "stream",
     "text": [
      "['dublin', 'jamaica', 'london', 'mexico', 'toronto']\n",
      "['toronto', 'mexico', 'london', 'jamaica', 'dublin']\n",
      "['dublin', 'jamaica', 'london', 'mexico', 'toronto']\n",
      "['toronto', 'mexico', 'london', 'jamaica', 'dublin']\n",
      "['toronto', 'mexico', 'london', 'jamaica', 'dublin']\n",
      "['dublin', 'jamaica', 'london', 'mexico', 'toronto']\n",
      "['london', 'dublin', 'toronto', 'mexico', 'jamaica']\n"
     ]
    }
   ],
   "source": [
    "#seeing the World: Think of at least five places in the world you’d like to \n",
    "#visit.\n",
    "#Store the locations in a list. Make sure the list is not in alphabetical order.\n",
    "#Print your list in its original order. Don’t worry about printing the list neatly, \n",
    "#just print it as a raw Python list.\n",
    "#Use sorted() to print your list in alphabetical order without modifying the \n",
    "#actual list.\n",
    "#Show that your list is still in its original order by printing it.\n",
    "#Use sorted() to print your list in reverse alphabetical order without chang\u0002ing the order of the original list.\n",
    "#Show that your list is still in its original order by printing it again.\n",
    "#Use reverse() to change the order of your list. Print the list to show that its \n",
    "#order has changed.\n",
    "#Use reverse() to change the order of your list again. Print the list to show \n",
    "#it’s back to its original order.\n",
    "#Use sort() to change your list so it’s stored in alphabetical order. Print the \n",
    "#list to show that its order has been changed.\n",
    "#Use sort() to change your list so it’s stored in reverse alphabetical order.\n",
    "#Print the list to show that its order has changed\n",
    "cities=['london','dublin','toronto','mexico','jamaica']\n",
    "cities.sort()\n",
    "print(cities)\n",
    "\n",
    "cities.sort(reverse=True)\n",
    "print(cities)\n",
    "\n",
    "cities.sort()\n",
    "print(cities)\n",
    "\n",
    "cities.reverse()\n",
    "print(cities)\n",
    "\n",
    "cities.sort(reverse=True)\n",
    "print(cities)\n",
    "\n",
    "cities.reverse()\n",
    "print(cities)\n",
    "cities=['london','dublin','toronto','mexico','jamaica']\n",
    "print(cities)"
   ]
  },
  {
   "cell_type": "code",
   "execution_count": 43,
   "id": "7ff6379d",
   "metadata": {},
   "outputs": [
    {
     "name": "stdout",
     "output_type": "stream",
     "text": [
      "Vero, that was very competitive for you!\n",
      "I can't wait for the next project,Vero.\n",
      "I love you,Vero.\n",
      "\n",
      "Hex, that was very competitive for you!\n",
      "I can't wait for the next project,Hex.\n",
      "I love you,Hex.\n",
      "\n",
      "Guy, that was very competitive for you!\n",
      "I can't wait for the next project,Guy.\n",
      "I love you,Guy.\n",
      "\n",
      "Len, that was very competitive for you!\n",
      "I can't wait for the next project,Len.\n",
      "I love you,Len.\n",
      "\n",
      "Dave, that was very competitive for you!\n",
      "I can't wait for the next project,Dave.\n",
      "I love you,Dave.\n",
      "\n",
      "Paul, that was very competitive for you!\n",
      "I can't wait for the next project,Paul.\n",
      "I love you,Paul.\n",
      "\n"
     ]
    }
   ],
   "source": [
    "names = ['vero','hex','guy','len','dave','paul']\n",
    "for name in names:\n",
    "    print(name.title() + \", that was very competitive for you!\")\n",
    "    print(\"I can't wait for the next project,\" + name.title() + \".\")\n",
    "    print(\"I love you,\" + name.title() + \".\\n\")\n",
    "    "
   ]
  },
  {
   "cell_type": "code",
   "execution_count": 54,
   "id": "2b7636af",
   "metadata": {},
   "outputs": [
    {
     "name": "stdout",
     "output_type": "stream",
     "text": [
      "['pepperoni', 'chicken', 'beef']\n",
      "I love Pepperoni pizza.\n",
      "I love all the three kinds of pizza.\n",
      "I love extra cheese on my pizza.\n",
      "\n",
      "I love Chicken pizza.\n",
      "I love all the three kinds of pizza.\n",
      "I love extra cheese on my pizza.\n",
      "\n",
      "I love Beef pizza.\n",
      "I love all the three kinds of pizza.\n",
      "I love extra cheese on my pizza.\n",
      "\n"
     ]
    }
   ],
   "source": [
    "pizzas=['pepperoni','chicken','beef']\n",
    "print(pizzas)\n",
    "for pizza in pizzas:\n",
    "    print(\"I love \" + pizza.title() + \" pizza\" + \".\")\n",
    "    print(\"I love all the three kinds of pizza\" +\".\")\n",
    "    print(\"I love extra cheese on my pizza\" + \".\\n\")"
   ]
  },
  {
   "cell_type": "code",
   "execution_count": 56,
   "id": "983120d6",
   "metadata": {},
   "outputs": [
    {
     "name": "stdout",
     "output_type": "stream",
     "text": [
      "2\n",
      "3\n",
      "4\n",
      "5\n",
      "6\n",
      "7\n"
     ]
    }
   ],
   "source": [
    "for value in range(2,8):\n",
    "    print(value)"
   ]
  },
  {
   "cell_type": "code",
   "execution_count": 57,
   "id": "5ab2838d",
   "metadata": {},
   "outputs": [
    {
     "name": "stdout",
     "output_type": "stream",
     "text": [
      "[2, 3, 4, 5, 6]\n"
     ]
    }
   ],
   "source": [
    "numbers=list(range(2,7))\n",
    "print(numbers)"
   ]
  },
  {
   "cell_type": "code",
   "execution_count": 60,
   "id": "e49769b9",
   "metadata": {},
   "outputs": [
    {
     "name": "stdout",
     "output_type": "stream",
     "text": [
      "range(2, 7)\n"
     ]
    }
   ],
   "source": [
    "numbers=str(range(2,7))\n",
    "print(numbers)"
   ]
  },
  {
   "cell_type": "code",
   "execution_count": 62,
   "id": "3413a0cf",
   "metadata": {},
   "outputs": [
    {
     "name": "stdout",
     "output_type": "stream",
     "text": [
      "[1, 4, 9, 16, 25, 36, 49, 64, 81, 100]\n"
     ]
    }
   ],
   "source": [
    "squares=[]\n",
    "for value in range(1,11):\n",
    "    square= value**2\n",
    "    squares.append(square)\n",
    "    \n",
    "print(squares)"
   ]
  },
  {
   "cell_type": "code",
   "execution_count": 63,
   "id": "9457bd66",
   "metadata": {},
   "outputs": [
    {
     "name": "stdout",
     "output_type": "stream",
     "text": [
      "[1, 4, 9, 16, 25, 36]\n"
     ]
    }
   ],
   "source": [
    "squares=[]\n",
    "for value in range(1,7):\n",
    "    squares.append(value**2)\n",
    "print(squares)"
   ]
  },
  {
   "cell_type": "code",
   "execution_count": 69,
   "id": "c272e45c",
   "metadata": {},
   "outputs": [
    {
     "data": {
      "text/plain": [
       "57"
      ]
     },
     "execution_count": 69,
     "metadata": {},
     "output_type": "execute_result"
    }
   ],
   "source": [
    "calls=[1,2,3,5,7,8,11,20]\n",
    "min(calls)\n",
    "\n",
    "calls=[1,2,3,5,7,8,11,20]\n",
    "max(calls)\n",
    "\n",
    "calls=[1,2,3,5,7,8,11,20]\n",
    "sum(calls)"
   ]
  },
  {
   "cell_type": "code",
   "execution_count": null,
   "id": "3dd5956a",
   "metadata": {},
   "outputs": [],
   "source": []
  }
 ],
 "metadata": {
  "kernelspec": {
   "display_name": "Python 3 (ipykernel)",
   "language": "python",
   "name": "python3"
  },
  "language_info": {
   "codemirror_mode": {
    "name": "ipython",
    "version": 3
   },
   "file_extension": ".py",
   "mimetype": "text/x-python",
   "name": "python",
   "nbconvert_exporter": "python",
   "pygments_lexer": "ipython3",
   "version": "3.9.7"
  }
 },
 "nbformat": 4,
 "nbformat_minor": 5
}
