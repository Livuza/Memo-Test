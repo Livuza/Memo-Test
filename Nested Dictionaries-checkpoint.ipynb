{
 "cells": [
  {
   "cell_type": "code",
   "execution_count": 2,
   "id": "f215f61c",
   "metadata": {},
   "outputs": [
    {
     "name": "stdout",
     "output_type": "stream",
     "text": [
      "65\n"
     ]
    }
   ],
   "source": [
    "cohort = {\n",
    "    'course': 'Data Science', \n",
    "    'start':'Jan', \n",
    "    'end': 'Mar',\n",
    "    'students': [\n",
    "        {\n",
    "            'name': 'Njogu',\n",
    "            'age': 30, \n",
    "            'country': 'Kenya',\n",
    "            'assignment_scores': {'assignment_1': 50, 'assignment_2': 70, 'assignment_3': 65}\n",
    "        },\n",
    "        {\n",
    "            'name': 'Chinedu',\n",
    "            'age': 29,\n",
    "            'country': 'Nigeria',\n",
    "            'assignment_scores': {'assignment_1': 55, 'assignment_2': 60, 'assignment_3': 85}\n",
    "        }\n",
    "    ]\n",
    "}\n",
    "print(cohort['students'][0]['assignment_scores']['assignment_3'])"
   ]
  },
  {
   "cell_type": "code",
   "execution_count": null,
   "id": "bbc64e03",
   "metadata": {},
   "outputs": [],
   "source": []
  }
 ],
 "metadata": {
  "kernelspec": {
   "display_name": "Python 3 (ipykernel)",
   "language": "python",
   "name": "python3"
  },
  "language_info": {
   "codemirror_mode": {
    "name": "ipython",
    "version": 3
   },
   "file_extension": ".py",
   "mimetype": "text/x-python",
   "name": "python",
   "nbconvert_exporter": "python",
   "pygments_lexer": "ipython3",
   "version": "3.9.7"
  }
 },
 "nbformat": 4,
 "nbformat_minor": 5
}
