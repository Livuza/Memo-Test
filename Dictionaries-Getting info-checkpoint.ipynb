{
 "cells": [
  {
   "cell_type": "code",
   "execution_count": 3,
   "id": "430eefc2",
   "metadata": {},
   "outputs": [
    {
     "name": "stdout",
     "output_type": "stream",
     "text": [
      "jen's favourite language isC.\n"
     ]
    }
   ],
   "source": [
    "favourite_languages={\n",
    "    'jen':'C',\n",
    "    'josh':'python',\n",
    "    'ben':'Java',\n",
    "    'dave':'R'\n",
    "    }\n",
    "print(\"jen's favourite language is\" +\n",
    "      favourite_languages[\"jen\"].title()+\n",
    "      \".\")"
   ]
  },
  {
   "cell_type": "code",
   "execution_count": 7,
   "id": "21aaf394",
   "metadata": {},
   "outputs": [
    {
     "name": "stdout",
     "output_type": "stream",
     "text": [
      "jen\n",
      "josh\n",
      "ben\n",
      "dave\n"
     ]
    }
   ],
   "source": [
    "favourite_languages={\n",
    "    'jen':'C',\n",
    "    'josh':'python',\n",
    "    'ben':'Java',\n",
    "    'dave':'R'\n",
    "    }\n",
    "for name in favourite_languages.keys():\n",
    "    print(name)"
   ]
  },
  {
   "cell_type": "code",
   "execution_count": 8,
   "id": "35d83652",
   "metadata": {},
   "outputs": [
    {
     "data": {
      "text/plain": [
       "{'first_name': 'Julie',\n",
       " 'second_name': 'Chepkirui',\n",
       " 'age': '16',\n",
       " 'city': 'nairobi',\n",
       " 'school': 'kaplong'}"
      ]
     },
     "execution_count": 8,
     "metadata": {},
     "output_type": "execute_result"
    }
   ],
   "source": [
    "person={'first_name':'Julie','second_name':'Chepkirui','age':'16','city':'nairobi','school':'kaplong'}\n",
    "person"
   ]
  },
  {
   "cell_type": "code",
   "execution_count": 17,
   "id": "753542d3",
   "metadata": {},
   "outputs": [
    {
     "data": {
      "text/plain": [
       "'Julie'"
      ]
     },
     "execution_count": 17,
     "metadata": {},
     "output_type": "execute_result"
    }
   ],
   "source": [
    "name=person['first_name']\n",
    "name"
   ]
  },
  {
   "cell_type": "code",
   "execution_count": 14,
   "id": "a688c652",
   "metadata": {},
   "outputs": [
    {
     "data": {
      "text/plain": [
       "'kaplong'"
      ]
     },
     "execution_count": 14,
     "metadata": {},
     "output_type": "execute_result"
    }
   ],
   "source": [
    "name=person['school']\n",
    "name"
   ]
  },
  {
   "cell_type": "code",
   "execution_count": 18,
   "id": "c37255d5",
   "metadata": {},
   "outputs": [
    {
     "data": {
      "text/plain": [
       "{'first_name': 'Julie',\n",
       " 'second_name': 'Chepkirui',\n",
       " 'age': '16',\n",
       " 'city': 'nairobi',\n",
       " 'school': 'kaplong',\n",
       " 'gender': 'female'}"
      ]
     },
     "execution_count": 18,
     "metadata": {},
     "output_type": "execute_result"
    }
   ],
   "source": [
    "person['gender']='female'\n",
    "person"
   ]
  },
  {
   "cell_type": "code",
   "execution_count": 19,
   "id": "b975fb92",
   "metadata": {},
   "outputs": [
    {
     "data": {
      "text/plain": [
       "{'first_name': 'allen',\n",
       " 'second_name': 'Chepkirui',\n",
       " 'age': '16',\n",
       " 'city': 'nairobi',\n",
       " 'school': 'kaplong',\n",
       " 'gender': 'female'}"
      ]
     },
     "execution_count": 19,
     "metadata": {},
     "output_type": "execute_result"
    }
   ],
   "source": [
    "person['first_name']='allen'\n",
    "person"
   ]
  },
  {
   "cell_type": "code",
   "execution_count": 23,
   "id": "90904c8c",
   "metadata": {},
   "outputs": [
    {
     "name": "stdout",
     "output_type": "stream",
     "text": [
      "first_name allen\n",
      "second_name Chepkirui\n",
      "age 16\n",
      "city nairobi\n",
      "school kaplong\n",
      "gender female\n"
     ]
    }
   ],
   "source": [
    "for key,value in person.items():\n",
    "    print (key,value)"
   ]
  },
  {
   "cell_type": "code",
   "execution_count": 33,
   "id": "3694fca4",
   "metadata": {},
   "outputs": [
    {
     "name": "stdout",
     "output_type": "stream",
     "text": [
      "Jen\n"
     ]
    },
    {
     "ename": "TypeError",
     "evalue": "bad operand type for unary +: 'str'",
     "output_type": "error",
     "traceback": [
      "\u001b[1;31m---------------------------------------------------------------------------\u001b[0m",
      "\u001b[1;31mTypeError\u001b[0m                                 Traceback (most recent call last)",
      "\u001b[1;32m~\\AppData\\Local\\Temp/ipykernel_3804/2984703832.py\u001b[0m in \u001b[0;36m<module>\u001b[1;34m\u001b[0m\n\u001b[0;32m      9\u001b[0m     \u001b[0mprint\u001b[0m\u001b[1;33m(\u001b[0m\u001b[0mname\u001b[0m\u001b[1;33m.\u001b[0m\u001b[0mtitle\u001b[0m\u001b[1;33m(\u001b[0m\u001b[1;33m)\u001b[0m\u001b[1;33m)\u001b[0m\u001b[1;33m\u001b[0m\u001b[1;33m\u001b[0m\u001b[0m\n\u001b[0;32m     10\u001b[0m     \u001b[1;32mif\u001b[0m \u001b[0mfriends\u001b[0m\u001b[1;33m:\u001b[0m\u001b[1;33m\u001b[0m\u001b[1;33m\u001b[0m\u001b[0m\n\u001b[1;32m---> 11\u001b[1;33m         print(\"Hi\", +name.title() +\n\u001b[0m\u001b[0;32m     12\u001b[0m          \u001b[1;34m\", i see your favourite language is\"\u001b[0m \u001b[1;33m+\u001b[0m\u001b[1;33m\u001b[0m\u001b[1;33m\u001b[0m\u001b[0m\n\u001b[0;32m     13\u001b[0m          favourite_languages[name].title()+\"!\")\n",
      "\u001b[1;31mTypeError\u001b[0m: bad operand type for unary +: 'str'"
     ]
    }
   ],
   "source": [
    "favourite_languages={\n",
    "    'jen':'C',\n",
    "    'josh':'python',\n",
    "    'ben':'Java',\n",
    "    'dave':'R'\n",
    "    }\n",
    "friends=['jen','ben']\n",
    "for name in favourite_languages.keys():\n",
    "    print(name.title())\n",
    "    if friends:\n",
    "        print(\"Hi\", +name.title() +\n",
    "         \", i see your favourite language is\" +\n",
    "         favourite_languages[name].title()+\"!\")\n",
    "        "
   ]
  },
  {
   "cell_type": "code",
   "execution_count": null,
   "id": "7d9c1d9a",
   "metadata": {},
   "outputs": [],
   "source": []
  },
  {
   "cell_type": "code",
   "execution_count": null,
   "id": "63646bd2",
   "metadata": {},
   "outputs": [],
   "source": []
  }
 ],
 "metadata": {
  "kernelspec": {
   "display_name": "Python 3 (ipykernel)",
   "language": "python",
   "name": "python3"
  },
  "language_info": {
   "codemirror_mode": {
    "name": "ipython",
    "version": 3
   },
   "file_extension": ".py",
   "mimetype": "text/x-python",
   "name": "python",
   "nbconvert_exporter": "python",
   "pygments_lexer": "ipython3",
   "version": "3.9.7"
  }
 },
 "nbformat": 4,
 "nbformat_minor": 5
}
