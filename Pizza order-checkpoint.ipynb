{
 "cells": [
  {
   "cell_type": "code",
   "execution_count": 1,
   "id": "de309378",
   "metadata": {},
   "outputs": [
    {
     "name": "stdout",
     "output_type": "stream",
     "text": [
      "Pizza deliveries\n",
      "what is your pizza_size? S,M or L: M\n",
      "do you want pepperoni? Y or N: Y\n",
      "Do you extra cheese? Y or N: Y\n",
      "the final bill is 24\n"
     ]
    }
   ],
   "source": [
    "print(\"Pizza deliveries\")\n",
    "pizza_size=input(\"what is your pizza_size? S,M or L: \")\n",
    "add_pepperoni=input(\"do you want pepperoni? Y or N: \")\n",
    "extra_cheese=input(\"Do you extra cheese? Y or N: \")\n",
    "bill=0\n",
    "if pizza_size==\"S\":\n",
    "    bill += 15\n",
    "elif pizza_size==\"M\":\n",
    "    bill += 20\n",
    "elif pizza_size==\"L\":\n",
    "    bill += 25\n",
    "    \n",
    "if add_pepperoni==\"Y\":\n",
    "    if pizza_size==\"S\":\n",
    "        bill += 2\n",
    "    else:\n",
    "        bill += 3\n",
    "if extra_cheese==\"Y\":\n",
    "    bill += 1\n",
    "    \n",
    "print(f\"the final bill is {bill}\")"
   ]
  },
  {
   "cell_type": "code",
   "execution_count": null,
   "id": "8604262d",
   "metadata": {},
   "outputs": [],
   "source": []
  }
 ],
 "metadata": {
  "kernelspec": {
   "display_name": "Python 3 (ipykernel)",
   "language": "python",
   "name": "python3"
  },
  "language_info": {
   "codemirror_mode": {
    "name": "ipython",
    "version": 3
   },
   "file_extension": ".py",
   "mimetype": "text/x-python",
   "name": "python",
   "nbconvert_exporter": "python",
   "pygments_lexer": "ipython3",
   "version": "3.9.7"
  }
 },
 "nbformat": 4,
 "nbformat_minor": 5
}
