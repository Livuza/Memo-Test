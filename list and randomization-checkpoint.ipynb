{
 "cells": [
  {
   "cell_type": "code",
   "execution_count": 4,
   "id": "11764a98",
   "metadata": {},
   "outputs": [
    {
     "data": {
      "text/plain": [
       "9"
      ]
     },
     "execution_count": 4,
     "metadata": {},
     "output_type": "execute_result"
    }
   ],
   "source": [
    "import random\n",
    "#generate a random integer\n",
    "rand_int=random.randint(1,10)\n",
    "rand_int"
   ]
  },
  {
   "cell_type": "code",
   "execution_count": 8,
   "id": "095d22b8",
   "metadata": {},
   "outputs": [
    {
     "name": "stdout",
     "output_type": "stream",
     "text": [
      "2\n"
     ]
    }
   ],
   "source": [
    "import random\n",
    "#generate a random integer\n",
    "new_int=random.randrange(1,10)\n",
    "print(new_int)"
   ]
  },
  {
   "cell_type": "code",
   "execution_count": 10,
   "id": "27387ae3",
   "metadata": {},
   "outputs": [
    {
     "name": "stdout",
     "output_type": "stream",
     "text": [
      "0.12119193906394754\n"
     ]
    }
   ],
   "source": [
    "import random\n",
    "#generate a randon floating point number\n",
    "rand_float=random.random()\n",
    "print(rand_float)"
   ]
  },
  {
   "cell_type": "code",
   "execution_count": 11,
   "id": "52e34778",
   "metadata": {},
   "outputs": [
    {
     "name": "stdout",
     "output_type": "stream",
     "text": [
      "7.4427109487324605\n"
     ]
    }
   ],
   "source": [
    "import random\n",
    "# generate a random floating point number between 0 and 10\n",
    "r_float=random.random()*10\n",
    "print(r_float)"
   ]
  },
  {
   "cell_type": "code",
   "execution_count": 16,
   "id": "cd1dfefa",
   "metadata": {},
   "outputs": [
    {
     "name": "stdout",
     "output_type": "stream",
     "text": [
      "heads\n"
     ]
    }
   ],
   "source": [
    "#coin toss\n",
    "#1=head\n",
    "#0=tail\n",
    "rand=random.randint(0,1)\n",
    "if rand==0:\n",
    "    print('tails')\n",
    "elif rand==1:\n",
    "    print('heads')"
   ]
  },
  {
   "cell_type": "code",
   "execution_count": 17,
   "id": "a7d56bde",
   "metadata": {},
   "outputs": [
    {
     "name": "stdout",
     "output_type": "stream",
     "text": [
      "['Nissan', 'Toyota', 'Merc', 'Bmw', 'Jaguar', 'Honda', 'mazda']\n"
     ]
    }
   ],
   "source": [
    "cars=['Nissan', 'Toyota', 'Merc', 'Bmw', 'Jaguar', 'Honda', 'mazda']\n",
    "print(cars)\n"
   ]
  },
  {
   "cell_type": "code",
   "execution_count": 22,
   "id": "616e15e0",
   "metadata": {},
   "outputs": [
    {
     "data": {
      "text/plain": [
       "['Merc', 'Bmw', 'Jaguar', 'Honda', 'mazda']"
      ]
     },
     "execution_count": 22,
     "metadata": {},
     "output_type": "execute_result"
    }
   ],
   "source": [
    "cars=['Nissan', 'Toyota', 'Merc', 'Bmw', 'Jaguar', 'Honda', 'mazda']\n",
    "cars[4]\n",
    "cars[-1].upper()\n",
    "cars[2:5]\n",
    "cars[:4]\n",
    "cars[2:]"
   ]
  },
  {
   "cell_type": "code",
   "execution_count": 23,
   "id": "c1fb9cd9",
   "metadata": {},
   "outputs": [
    {
     "name": "stdout",
     "output_type": "stream",
     "text": [
      "['Nissan', 'Toyota', 'Merc', 'Bmw', 'Jaguar', 'Honda', 'mazda', 'volvo']\n"
     ]
    }
   ],
   "source": [
    "cars=['Nissan', 'Toyota', 'Merc', 'Bmw', 'Jaguar', 'Honda', 'mazda']\n",
    "cars.append('volvo')\n",
    "print(cars)"
   ]
  },
  {
   "cell_type": "code",
   "execution_count": 24,
   "id": "66d3d2b0",
   "metadata": {},
   "outputs": [
    {
     "name": "stdout",
     "output_type": "stream",
     "text": [
      "['Nissan', 'Toyota', 'Volswagen', 'Merc', 'Bmw', 'Jaguar', 'Honda', 'mazda']\n"
     ]
    }
   ],
   "source": [
    "cars=['Nissan', 'Toyota', 'Merc', 'Bmw', 'Jaguar', 'Honda', 'mazda']\n",
    "cars.insert(2,'Volswagen')\n",
    "print(cars)"
   ]
  },
  {
   "cell_type": "code",
   "execution_count": 26,
   "id": "ec083737",
   "metadata": {},
   "outputs": [
    {
     "name": "stdout",
     "output_type": "stream",
     "text": [
      "1\n"
     ]
    }
   ],
   "source": [
    "cars=['Nissan', 'Toyota', 'Merc', 'Bmw', 'Jaguar', 'Honda', 'mazda']\n",
    "index_pos=cars.index('Toyota')\n",
    "print(index_pos)"
   ]
  },
  {
   "cell_type": "code",
   "execution_count": 27,
   "id": "02524197",
   "metadata": {},
   "outputs": [
    {
     "name": "stdout",
     "output_type": "stream",
     "text": [
      "Merc is not my choice car\n"
     ]
    }
   ],
   "source": [
    "cars=['Nissan', 'Toyota', 'Volswagen', 'Merc', 'Bmw', 'Jaguar', 'Honda', 'mazda']\n",
    "rm_car=cars.pop(3)\n",
    "print(f\"{rm_car} is not my choice car\")"
   ]
  },
  {
   "cell_type": "code",
   "execution_count": 33,
   "id": "5640f47d",
   "metadata": {},
   "outputs": [
    {
     "name": "stdout",
     "output_type": "stream",
     "text": [
      "['Toyota', 'Volswagen', 'Merc', 'Bmw', 'Jaguar', 'Honda', 'mazda']\n"
     ]
    }
   ],
   "source": [
    "cars=['Nissan', 'Toyota', 'Volswagen', 'Merc', 'Bmw', 'Jaguar', 'Honda', 'mazda']\n",
    "cars.remove('Nissan')\n",
    "print(cars)"
   ]
  },
  {
   "cell_type": "code",
   "execution_count": 36,
   "id": "2ed547f7",
   "metadata": {},
   "outputs": [
    {
     "name": "stdout",
     "output_type": "stream",
     "text": [
      "['Nissan', 'Toyota', 'Merc', 'Bmw', 'Jaguar', 'Honda', 'mazda']\n"
     ]
    }
   ],
   "source": [
    "cars=['Nissan', 'Toyota', 'Volswagen', 'Merc', 'Bmw', 'Jaguar', 'Honda', 'mazda']\n",
    "del cars[2]\n",
    "print(cars)"
   ]
  },
  {
   "cell_type": "code",
   "execution_count": 37,
   "id": "859478e5",
   "metadata": {},
   "outputs": [
    {
     "name": "stdout",
     "output_type": "stream",
     "text": [
      "['Nissan', 'Toyota', 'Volswagen', 'Merc', 'Bmw', 'Jaguar', 'Honda', 'mazda', 'subaru']\n",
      "['audi', 'crown', 'landrover']\n",
      "['Nissan', 'Toyota', 'Volswagen', 'Merc', 'Bmw', 'Jaguar', 'Honda', 'mazda', 'subaru', 'audi', 'crown', 'landrover']\n"
     ]
    }
   ],
   "source": [
    "cars=['Nissan', 'Toyota', 'Volswagen', 'Merc', 'Bmw', 'Jaguar', 'Honda', 'mazda','subaru']\n",
    "print(cars)\n",
    "japan_cars=['audi','crown','landrover']\n",
    "print(japan_cars)\n",
    "cars.extend(japan_cars)\n",
    "print(cars)"
   ]
  },
  {
   "cell_type": "code",
   "execution_count": 39,
   "id": "cfca6a16",
   "metadata": {},
   "outputs": [
    {
     "name": "stdout",
     "output_type": "stream",
     "text": [
      "['subaru', 'mazda', 'Honda', 'Jaguar', 'Bmw', 'Merc', 'Volswagen', 'Toyota', 'Nissan']\n"
     ]
    }
   ],
   "source": [
    "cars=['Nissan', 'Toyota', 'Volswagen', 'Merc', 'Bmw', 'Jaguar', 'Honda', 'mazda','subaru']\n",
    "cars.reverse()\n",
    "print(cars)"
   ]
  },
  {
   "cell_type": "code",
   "execution_count": 42,
   "id": "d179da8d",
   "metadata": {},
   "outputs": [
    {
     "name": "stdout",
     "output_type": "stream",
     "text": [
      "['Bmw', 'Honda', 'Jaguar', 'Merc', 'Nissan', 'Toyota', 'Volswagen', 'mazda', 'subaru']\n"
     ]
    }
   ],
   "source": [
    "cars=['Nissan', 'Toyota', 'Volswagen', 'Merc', 'Bmw', 'Jaguar', 'Honda', 'mazda','subaru']\n",
    "cars.sort()\n",
    "print(cars)"
   ]
  },
  {
   "cell_type": "code",
   "execution_count": 44,
   "id": "0517c12d",
   "metadata": {},
   "outputs": [
    {
     "name": "stdout",
     "output_type": "stream",
     "text": [
      "['subaru', 'mazda', 'Volswagen', 'Toyota', 'Nissan', 'Merc', 'Jaguar', 'Honda', 'Bmw']\n"
     ]
    }
   ],
   "source": [
    "cars=['Nissan', 'Toyota', 'Volswagen', 'Merc', 'Bmw', 'Jaguar', 'Honda', 'mazda','subaru']\n",
    "cars.sort(reverse=True)\n",
    "print(cars)"
   ]
  },
  {
   "cell_type": "code",
   "execution_count": 46,
   "id": "3099fe9d",
   "metadata": {},
   "outputs": [
    {
     "name": "stdout",
     "output_type": "stream",
     "text": [
      "Enter (rock, paper, scissors): rock\n",
      "Player choice: rock\n",
      "Computer choice: paper\n",
      "Computer wins\n"
     ]
    }
   ],
   "source": [
    "import random\n",
    "\n",
    "users_inputs = input(\"Enter (rock, paper, scissors): \").lower()\n",
    "expected_outcomes = [\"rock\", \"paper\", \"scissors\"]\n",
    "computer_outcome = random.choice(expected_outcomes)\n",
    "print(f\"Player choice: {users_inputs}\")\n",
    "print(f\"Computer choice: {computer_outcome}\")\n",
    "\n",
    "if users_inputs == computer_outcome:\n",
    "    print(\"It's a draw!\")\n",
    "elif users_inputs == \"rock\":\n",
    "    if computer_outcome == \"scissors\":\n",
    "        print(\"Player wins!\")\n",
    "    else:\n",
    "        print(\"Computer wins\")\n",
    "elif users_inputs == \"paper\":\n",
    "    if computer_outcome == \"rock\":\n",
    "        print(\"player wins!\")\n",
    "    else:\n",
    "        print(\"Computer wins!\")\n",
    "elif users_inputs == \"scissors\":\n",
    "    if computer_outcome == \"paper\":\n",
    "        print(\"Player wins!\")\n",
    "    else:\n",
    "        print(\"Computer wins!\")"
   ]
  },
  {
   "cell_type": "code",
   "execution_count": null,
   "id": "0a63c3ac",
   "metadata": {},
   "outputs": [],
   "source": []
  },
  {
   "cell_type": "code",
   "execution_count": null,
   "id": "cf1e3eb8",
   "metadata": {},
   "outputs": [],
   "source": []
  },
  {
   "cell_type": "code",
   "execution_count": null,
   "id": "4f9ed034",
   "metadata": {},
   "outputs": [],
   "source": []
  }
 ],
 "metadata": {
  "kernelspec": {
   "display_name": "Python 3 (ipykernel)",
   "language": "python",
   "name": "python3"
  },
  "language_info": {
   "codemirror_mode": {
    "name": "ipython",
    "version": 3
   },
   "file_extension": ".py",
   "mimetype": "text/x-python",
   "name": "python",
   "nbconvert_exporter": "python",
   "pygments_lexer": "ipython3",
   "version": "3.9.7"
  }
 },
 "nbformat": 4,
 "nbformat_minor": 5
}
