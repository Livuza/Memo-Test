{
 "cells": [
  {
   "cell_type": "code",
   "execution_count": 6,
   "id": "33f06c80",
   "metadata": {},
   "outputs": [
    {
     "name": "stdout",
     "output_type": "stream",
     "text": [
      "verifying user:Chloe\n",
      "verifying user:Derick\n",
      "verifying user:Claire\n",
      "verifying user:Brook\n",
      "verifying user:Aiden\n",
      "verifying user:Alice\n",
      "\n",
      "The following users have been confirmed:\n",
      "Chloe\n",
      "Derick\n",
      "Claire\n",
      "Brook\n",
      "Aiden\n",
      "Alice\n"
     ]
    }
   ],
   "source": [
    "#start with users that need to be verified\n",
    "#and an empty list to hold confirmed users.\n",
    "#verify each user until there are no more unconfirmes users.\n",
    "#move each verified user into the list of confirmed users.\n",
    "#display all confirmed users.\n",
    "unconfirmed_users=['alice', 'aiden', 'brook', 'claire', 'derick', 'chloe']\n",
    "confirmed_users=[]\n",
    "while unconfirmed_users:\n",
    "    current_users=unconfirmed_users.pop()\n",
    "    print(\"verifying user:\" +current_users.title())\n",
    "    confirmed_users.append(current_users)\n",
    "\n",
    "print(\"\\nThe following users have been confirmed:\")\n",
    "for confirmed_user in confirmed_users:\n",
    "    print(confirmed_user.title())"
   ]
  },
  {
   "cell_type": "code",
   "execution_count": null,
   "id": "d2a793df",
   "metadata": {},
   "outputs": [],
   "source": []
  }
 ],
 "metadata": {
  "kernelspec": {
   "display_name": "Python 3 (ipykernel)",
   "language": "python",
   "name": "python3"
  },
  "language_info": {
   "codemirror_mode": {
    "name": "ipython",
    "version": 3
   },
   "file_extension": ".py",
   "mimetype": "text/x-python",
   "name": "python",
   "nbconvert_exporter": "python",
   "pygments_lexer": "ipython3",
   "version": "3.9.7"
  }
 },
 "nbformat": 4,
 "nbformat_minor": 5
}
